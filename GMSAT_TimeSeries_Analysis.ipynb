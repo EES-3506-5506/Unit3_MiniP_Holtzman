{
 "cells": [
  {
   "cell_type": "markdown",
   "id": "e066f888-552f-47db-91d0-22d0495e529c",
   "metadata": {},
   "source": [
    "Complete the following:\r\n",
    "\n",
    "Create a NEW notebook and rename it: GMSAT_TimeSeries_Analysis\r\n",
    "Read in all the global mean surface air temperature datasets in the /data/temp/ directory (there are 6).\r\n",
    "Using subplotting, create 6 seperate plots of the time series. All axes must be labeled and you must have a title.\r\n",
    "Create a single plot with all datasets on the plot, make each time series a seperate color and with a legend on the plot.\r\n",
    "Pick one of the timeseries and make a very visually appealing figure! Play around with changing the fontsize, background colors, linewidth, markerstyle, colormaps, etc ...\r\n",
    "In the cell below each figure (remember the figure is the entire canvas ... create a Figure caption using Markdown.\r\n",
    "The first cell of your notebook should contain descriptive Markdown that describes the purpose of the notebook and the author including contact information.\r\n",
    "Push your new notebook to your GitHub repository."
   ]
  },
  {
   "cell_type": "code",
   "execution_count": 1,
   "id": "25391396-7fd4-4b2e-9754-d587870ff6de",
   "metadata": {},
   "outputs": [],
   "source": [
    "import pandas as pd                          \n",
    "import matplotlib.pyplot as plt \n",
    "import numpy as np\n",
    "import cmocean \n",
    "\n",
    "%matplotlib inline                           \n",
    "%config InlineBackend.figure_format='retina' \n",
    "plt.rcParams['figure.figsize'] = 12,6   "
   ]
  },
  {
   "cell_type": "code",
   "execution_count": 3,
   "id": "ad7d7870-7fa9-4431-9047-01eb70600757",
   "metadata": {},
   "outputs": [],
   "source": [
    "GISTEMP = pd.read_csv('./data/temp/gmt_GISTEMP.csv')\n",
    "Berkeley = pd.read_csv('./data/temp/gmt_Berkeley_Earth.csv')\n",
    "Era5 = pd.read_csv('./data/temp/gmt_ERA5.csv')\n",
    "CRUT5 = pd.read_csv('./data/temp/gmt_HadCRUT5.csv')\n",
    "JRA = pd.read_csv('./data/temp/gmt_JRA-55.csv')\n",
    "NOAA = pd.read_csv('./data/temp/gmt_NOAAGlobalTemp.csv')"
   ]
  },
  {
   "cell_type": "code",
   "execution_count": null,
   "id": "cf50561b-cbc5-4800-a07e-7d60b69e90da",
   "metadata": {},
   "outputs": [],
   "source": []
  }
 ],
 "metadata": {
  "kernelspec": {
   "display_name": "Python 3 (ipykernel)",
   "language": "python",
   "name": "python3"
  },
  "language_info": {
   "codemirror_mode": {
    "name": "ipython",
    "version": 3
   },
   "file_extension": ".py",
   "mimetype": "text/x-python",
   "name": "python",
   "nbconvert_exporter": "python",
   "pygments_lexer": "ipython3",
   "version": "3.9.17"
  }
 },
 "nbformat": 4,
 "nbformat_minor": 5
}
